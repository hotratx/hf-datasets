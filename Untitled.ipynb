{
 "cells": [
  {
   "cell_type": "code",
   "execution_count": 8,
   "id": "db4b7447-867b-4456-a0cc-89f2608be260",
   "metadata": {},
   "outputs": [
    {
     "name": "stderr",
     "output_type": "stream",
     "text": [
      "/home/hotratx/.local/lib/python3.11/site-packages/tqdm/auto.py:21: TqdmWarning: IProgress not found. Please update jupyter and ipywidgets. See https://ipywidgets.readthedocs.io/en/stable/user_install.html\n",
      "  from .autonotebook import tqdm as notebook_tqdm\n"
     ]
    },
    {
     "name": "stdout",
     "output_type": "stream",
     "text": [
      "Downloading and preparing dataset json/jamescalam--reddit-topics to /home/hotratx/.cache/huggingface/datasets/jamescalam___json/jamescalam--reddit-topics-5426f597ee8d3805/0.0.0/e347ab1c932092252e717ff3f949105a4dd28b27e842dd53157d2f72e276c2e4...\n"
     ]
    },
    {
     "name": "stderr",
     "output_type": "stream",
     "text": [
      "Downloading data files:   0%|                                                                                                                                 | 0/1 [00:00<?, ?it/s]\n",
      "Downloading data:   0%|                                                                                                                                 | 0.00/3.57M [00:00<?, ?B/s]\u001b[A\n",
      "Downloading data:   3%|███▋                                                                                                                      | 109k/3.57M [00:00<00:04, 736kB/s]\u001b[A\n",
      "Downloading data:   5%|██████▌                                                                                                                   | 190k/3.57M [00:00<00:07, 437kB/s]\u001b[A\n",
      "Downloading data:   8%|█████████▋                                                                                                                | 285k/3.57M [00:00<00:06, 524kB/s]\u001b[A\n",
      "Downloading data:  11%|█████████████▍                                                                                                            | 392k/3.57M [00:00<00:05, 549kB/s]\u001b[A\n",
      "Downloading data:  13%|████████████████▏                                                                                                         | 474k/3.57M [00:00<00:05, 577kB/s]\u001b[A\n",
      "Downloading data:  17%|████████████████████▋                                                                                                     | 605k/3.57M [00:00<00:04, 734kB/s]\u001b[A\n",
      "Downloading data:  19%|███████████████████████▍                                                                                                  | 687k/3.57M [00:01<00:04, 686kB/s]\u001b[A\n",
      "Downloading data:  21%|██████████████████████████                                                                                                | 761k/3.57M [00:01<00:05, 544kB/s]\u001b[A\n",
      "Downloading data:  24%|████████████████████████████▉                                                                                             | 845k/3.57M [00:01<00:04, 606kB/s]\u001b[A\n",
      "Downloading data:  28%|██████████████████████████████████▏                                                                                       | 999k/3.57M [00:01<00:03, 817kB/s]\u001b[A\n",
      "Downloading data:  32%|███████████████████████████████████████▏                                                                                 | 1.16M/3.57M [00:01<00:02, 998kB/s]\u001b[A\n",
      "Downloading data:  36%|███████████████████████████████████████████                                                                              | 1.27M/3.57M [00:01<00:02, 968kB/s]\u001b[A\n",
      "Downloading data:  42%|██████████████████████████████████████████████████▍                                                                     | 1.50M/3.57M [00:01<00:01, 1.30MB/s]\u001b[A\n",
      "Downloading data:  46%|███████████████████████████████████████████████████████▏                                                                | 1.64M/3.57M [00:01<00:01, 1.26MB/s]\u001b[A\n",
      "Downloading data:  53%|████████████████████████████████████████████████████████████████▏                                                       | 1.91M/3.57M [00:02<00:01, 1.61MB/s]\u001b[A\n",
      "Downloading data:  58%|█████████████████████████████████████████████████████████████████████▉                                                  | 2.08M/3.57M [00:02<00:00, 1.51MB/s]\u001b[A\n",
      "Downloading data:  63%|███████████████████████████████████████████████████████████████████████████▏                                            | 2.24M/3.57M [00:02<00:00, 1.41MB/s]\u001b[A\n",
      "Downloading data:  72%|██████████████████████████████████████████████████████████████████████████████████████▊                                 | 2.58M/3.57M [00:02<00:00, 1.78MB/s]\u001b[A\n",
      "Downloading data:  77%|████████████████████████████████████████████████████████████████████████████████████████████▊                           | 2.76M/3.57M [00:02<00:00, 1.44MB/s]\u001b[A\n",
      "Downloading data:  82%|██████████████████████████████████████████████████████████████████████████████████████████████████                      | 2.92M/3.57M [00:02<00:00, 1.38MB/s]\u001b[A\n",
      "Downloading data:  86%|███████████████████████████████████████████████████████████████████████████████████████████████████████▊                 | 3.06M/3.57M [00:03<00:00, 629kB/s]\u001b[A\n",
      "Downloading data:  89%|███████████████████████████████████████████████████████████████████████████████████████████████████████████▍             | 3.17M/3.57M [00:03<00:00, 647kB/s]\u001b[A\n",
      "Downloading data:  92%|██████████████████████████████████████████████████████████████████████████████████████████████████████████████▊          | 3.27M/3.57M [00:03<00:00, 666kB/s]\u001b[A\n",
      "Downloading data: 100%|█████████████████████████████████████████████████████████████████████████████████████████████████████████████████████████| 3.57M/3.57M [00:03<00:00, 922kB/s]\u001b[A\n",
      "Downloading data files: 100%|█████████████████████████████████████████████████████████████████████████████████████████████████████████████████████████| 1/1 [00:05<00:00,  5.32s/it]\n",
      "Extracting data files: 100%|██████████████████████████████████████████████████████████████████████████████████████████████████████████████████████████| 1/1 [00:00<00:00, 98.62it/s]\n",
      "                                                        "
     ]
    },
    {
     "name": "stdout",
     "output_type": "stream",
     "text": [
      "Dataset json downloaded and prepared to /home/hotratx/.cache/huggingface/datasets/jamescalam___json/jamescalam--reddit-topics-5426f597ee8d3805/0.0.0/e347ab1c932092252e717ff3f949105a4dd28b27e842dd53157d2f72e276c2e4. Subsequent calls will reuse this data.\n"
     ]
    },
    {
     "name": "stderr",
     "output_type": "stream",
     "text": [
      "\r"
     ]
    },
    {
     "data": {
      "text/plain": [
       "Dataset({\n",
       "    features: ['sub', 'title', 'selftext', 'upvote_ratio', 'id', 'created_utc'],\n",
       "    num_rows: 3791\n",
       "})"
      ]
     },
     "execution_count": 8,
     "metadata": {},
     "output_type": "execute_result"
    }
   ],
   "source": [
    "from datasets import load_dataset\n",
    "\n",
    "dataset = load_dataset(\"jamescalam/reddit-topics\", split=\"train\")\n",
    "dataset"
   ]
  },
  {
   "cell_type": "code",
   "execution_count": 9,
   "id": "4540b120-f299-4d1e-8902-3a0b0b830aae",
   "metadata": {},
   "outputs": [
    {
     "data": {
      "text/html": [
       "<div>\n",
       "<style scoped>\n",
       "    .dataframe tbody tr th:only-of-type {\n",
       "        vertical-align: middle;\n",
       "    }\n",
       "\n",
       "    .dataframe tbody tr th {\n",
       "        vertical-align: top;\n",
       "    }\n",
       "\n",
       "    .dataframe thead th {\n",
       "        text-align: right;\n",
       "    }\n",
       "</style>\n",
       "<table border=\"1\" class=\"dataframe\">\n",
       "  <thead>\n",
       "    <tr style=\"text-align: right;\">\n",
       "      <th></th>\n",
       "      <th>sub</th>\n",
       "      <th>title</th>\n",
       "      <th>selftext</th>\n",
       "      <th>upvote_ratio</th>\n",
       "      <th>id</th>\n",
       "      <th>created_utc</th>\n",
       "    </tr>\n",
       "  </thead>\n",
       "  <tbody>\n",
       "    <tr>\n",
       "      <th>0</th>\n",
       "      <td>investing</td>\n",
       "      <td>Followup- Here are the results so far from my ...</td>\n",
       "      <td>Please don't put any weight on these!  Its jus...</td>\n",
       "      <td>1.00</td>\n",
       "      <td>t3_ue0sp0</td>\n",
       "      <td>1.651168e+09</td>\n",
       "    </tr>\n",
       "    <tr>\n",
       "      <th>1</th>\n",
       "      <td>investing</td>\n",
       "      <td>This 2 hr Mohnish Pabrai lecture is better tha...</td>\n",
       "      <td>Mohnish Pabrai is the Warren Buffett of India ...</td>\n",
       "      <td>0.50</td>\n",
       "      <td>t3_ue0q26</td>\n",
       "      <td>1.651168e+09</td>\n",
       "    </tr>\n",
       "    <tr>\n",
       "      <th>2</th>\n",
       "      <td>investing</td>\n",
       "      <td>Vital Energy $VUX has “more than doubled produ...</td>\n",
       "      <td>Share Price: 0.40\\n\\nMarket Cap: 32 Mln\\n\\nSha...</td>\n",
       "      <td>0.25</td>\n",
       "      <td>t3_udxph6</td>\n",
       "      <td>1.651160e+09</td>\n",
       "    </tr>\n",
       "    <tr>\n",
       "      <th>3</th>\n",
       "      <td>investing</td>\n",
       "      <td>Keep averaging down or wait?</td>\n",
       "      <td>So there's obviously a lot going on right now ...</td>\n",
       "      <td>0.60</td>\n",
       "      <td>t3_udx78k</td>\n",
       "      <td>1.651159e+09</td>\n",
       "    </tr>\n",
       "    <tr>\n",
       "      <th>4</th>\n",
       "      <td>investing</td>\n",
       "      <td>The future of credit card companies vs. AppleP...</td>\n",
       "      <td>I see everything moving into (onto) your smart...</td>\n",
       "      <td>0.38</td>\n",
       "      <td>t3_udww2l</td>\n",
       "      <td>1.651158e+09</td>\n",
       "    </tr>\n",
       "  </tbody>\n",
       "</table>\n",
       "</div>"
      ],
      "text/plain": [
       "         sub                                              title  \\\n",
       "0  investing  Followup- Here are the results so far from my ...   \n",
       "1  investing  This 2 hr Mohnish Pabrai lecture is better tha...   \n",
       "2  investing  Vital Energy $VUX has “more than doubled produ...   \n",
       "3  investing                       Keep averaging down or wait?   \n",
       "4  investing  The future of credit card companies vs. AppleP...   \n",
       "\n",
       "                                            selftext  upvote_ratio         id  \\\n",
       "0  Please don't put any weight on these!  Its jus...          1.00  t3_ue0sp0   \n",
       "1  Mohnish Pabrai is the Warren Buffett of India ...          0.50  t3_ue0q26   \n",
       "2  Share Price: 0.40\\n\\nMarket Cap: 32 Mln\\n\\nSha...          0.25  t3_udxph6   \n",
       "3  So there's obviously a lot going on right now ...          0.60  t3_udx78k   \n",
       "4  I see everything moving into (onto) your smart...          0.38  t3_udww2l   \n",
       "\n",
       "    created_utc  \n",
       "0  1.651168e+09  \n",
       "1  1.651168e+09  \n",
       "2  1.651160e+09  \n",
       "3  1.651159e+09  \n",
       "4  1.651158e+09  "
      ]
     },
     "execution_count": 9,
     "metadata": {},
     "output_type": "execute_result"
    }
   ],
   "source": [
    "dataset = dataset.to_pandas()\n",
    "dataset.head()"
   ]
  },
  {
   "cell_type": "code",
   "execution_count": 10,
   "id": "325dbcdd-5708-47f2-b1b1-4bb998767c56",
   "metadata": {},
   "outputs": [
    {
     "data": {
      "text/plain": [
       "{'sub': 'investing',\n",
       " 'title': 'Vital Energy $VUX has “more than doubled production” but the market hasn’t noticed this yet – it was not yet in financials. Easy cashflow, more growth potential and a future stock multibagger using Q4 2021 numbers financials and 900 BOE/D production + higher oil prices of $100 WTI today',\n",
       " 'selftext': 'Share Price: 0.40\\n\\nMarket Cap: 32 Mln\\n\\nShares Outstanding: 81 Mln\\n\\nShares Diluted: 82.2 Mln\\n\\nManagement Ownership: &gt;50%\\n\\nQ4 is for October-December 2021. WTI oil prices have gone up a lot since so Q1 January-March have WTI market prices of somewhere $90 and at the moment we are seeing +$100. Let’s remember that viewing the Q4 financials in the MD&amp;A. **Q1 Financials will be out in a month, end of May**.\\n\\nVital Energy has been able to more than double its production due to 3 new wells as stated in the 5 October 2021 press release (enclosed down below). From 385 barrels in Q2 to 911 barrels daily in Q4. Furthermore, the company owns many more properties, as stated in the MD&amp;A, and has more potential sites for new wells. 4 of the 8 properties are in production, meaning there isn’t a dependency on one location/property. The cost structure is easy as after the Operational Netbacks the company has only limited expenses. Cashflow in Q4 was used to pay back a loan, note 11, of a total 3.8 Mln and make the balance sheet even cleaner.\\n\\nConsidering the high cash flow due to low costs and high oil prices, together with &gt;50% insider ownership, this is not a risk.\\n\\nAs can be seen below, the operational netback in Q4 was $70 dollars with a revenue of $84 per BOE. The average WTI was $77 in Q4. Let us remember that this is October – December and right now oil price is at $100 WTI.\\n\\n\\\\*Please check on Sedar MD&amp;A\\n\\n  \\n\\n**Balance Sheet and Income Statement**\\n\\n**\\\\*Please check on Sedar**\\n\\n**Insider Ownership**\\n\\nManagement owns &gt;50% of the shares so the float is tightly hold \\n\\n[https://www.vitalenergyoil.com/investor/stockqoute.html](https://www.vitalenergyoil.com/investor/stockqoute.html) \\n\\n**Oil Proved Reserves 31 December 2021 – they have more locations for drilling left**\\n\\n**\\\\*Please check on Sedar**\\n\\n**Valuation**\\n\\nIf you use the IWC (Microcap ETF) P/E ratio for the full year 2022 profit per share – expected based on production, oil price and cost structure - the stock is worth a lot more. That is for a company with a good balance sheet and a clear cashflow, not something you find in most microcaps as with this ETF. Therefore, using a P/E of 10-15 sounds very reasonable to me. This leaves out the potential growth of new oil wells. [https://stockanalysis.com/etf/iwc/](https://stockanalysis.com/etf/iwc/) \\n\\nConsidering the production only started to increase since August, and oil prices are now at $100 WTI, I see a completely different picture for FY 2022.\\n\\n**Oil Industry**\\n\\nI’m positive towards oil as the world still needs oil. From 2011-2019 the world energy consumption increased by 10% and oil consumption source increased at the same rate according to this source. [https://ourworldindata.org/grapher/global-energy-substitution?country=\\\\~OWID\\\\_WRL](https://ourworldindata.org/grapher/global-energy-substitution?country=~OWID_WRL)\\n\\n***\\\\*Disclaimer: This is my personal opinion, please do your own homework***',\n",
       " 'upvote_ratio': 0.25,\n",
       " 'id': 't3_udxph6',\n",
       " 'created_utc': 1651159883.0}"
      ]
     },
     "execution_count": 10,
     "metadata": {},
     "output_type": "execute_result"
    }
   ],
   "source": [
    "dataset = dataset.to_dict(orient='records')\n",
    "dataset[2]"
   ]
  },
  {
   "cell_type": "code",
   "execution_count": 11,
   "id": "8973c6a2-2330-4c05-a6b2-93aeeea03d00",
   "metadata": {},
   "outputs": [],
   "source": [
    "import json\n",
    "\n",
    "with open('dataset.jsonl', 'w') as fp:\n",
    "    for line in dataset:\n",
    "        fp.write(json.dumps(line)+'\\n')"
   ]
  },
  {
   "cell_type": "code",
   "execution_count": 12,
   "id": "09981573-900e-4629-b46f-ea537689c0b3",
   "metadata": {},
   "outputs": [],
   "source": [
    "import tarfile\n",
    "\n",
    "with tarfile.open('dataset.tar.gz', 'w:gz') as tar:\n",
    "    tar.add('dataset.jsonl')"
   ]
  },
  {
   "cell_type": "code",
   "execution_count": null,
   "id": "72e81ed7-8f7e-46a7-806d-43852bb1f5e1",
   "metadata": {},
   "outputs": [],
   "source": []
  },
  {
   "cell_type": "code",
   "execution_count": null,
   "id": "f9093bf3-56be-40ec-b5bf-d58ead353a3a",
   "metadata": {},
   "outputs": [],
   "source": []
  },
  {
   "cell_type": "code",
   "execution_count": null,
   "id": "51a3f8b3-257c-4f3b-999b-db4998afa787",
   "metadata": {},
   "outputs": [],
   "source": []
  },
  {
   "cell_type": "code",
   "execution_count": 15,
   "id": "2a757407-fcc0-4de3-9f3f-a6d81e063c01",
   "metadata": {},
   "outputs": [],
   "source": [
    "from datasets import DownloadManager"
   ]
  },
  {
   "cell_type": "code",
   "execution_count": 16,
   "id": "323d8d7c-3ff3-4e29-a8b3-c886d11ffebf",
   "metadata": {},
   "outputs": [],
   "source": [
    "dl_manager = DownloadManager()"
   ]
  },
  {
   "cell_type": "code",
   "execution_count": 17,
   "id": "cf1cbcc1-c5dc-49f5-af8a-1e0b8068851f",
   "metadata": {},
   "outputs": [],
   "source": [
    "_URL = \"https://github.com/jamescalam/hf-datasets/blob/main/01_builder_script/dataset.tar.gz\""
   ]
  },
  {
   "cell_type": "code",
   "execution_count": 18,
   "id": "cd834ba5-2908-4dab-8682-50ef4f234c91",
   "metadata": {},
   "outputs": [
    {
     "name": "stderr",
     "output_type": "stream",
     "text": [
      "Downloading data: 142kB [00:00, 7.57MB/s]\n"
     ]
    }
   ],
   "source": [
    "out = dl_manager.download_and_extract(_URL)"
   ]
  },
  {
   "cell_type": "code",
   "execution_count": null,
   "id": "4517b9de-cad0-46e3-bd40-0ffd0645949c",
   "metadata": {},
   "outputs": [],
   "source": []
  }
 ],
 "metadata": {
  "kernelspec": {
   "display_name": "Python 3 (ipykernel)",
   "language": "python",
   "name": "python3"
  },
  "language_info": {
   "codemirror_mode": {
    "name": "ipython",
    "version": 3
   },
   "file_extension": ".py",
   "mimetype": "text/x-python",
   "name": "python",
   "nbconvert_exporter": "python",
   "pygments_lexer": "ipython3",
   "version": "3.11.3"
  }
 },
 "nbformat": 4,
 "nbformat_minor": 5
}
